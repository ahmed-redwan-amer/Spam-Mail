{
 "cells": [
  {
   "cell_type": "code",
   "execution_count": 2,
   "metadata": {},
   "outputs": [
    {
     "name": "stdout",
     "output_type": "stream",
     "text": [
      "plz enter the first spam mail: ت تتلقى هذا البريد الإلكتروني بسبب اشتراكك في wish.com. لاتخاذ قرار بالتحلل من تلقي رسائل بريد إلكتروني مستقبلاً، ويمكنك القيام بما يلي هنا.\n",
      "['ت', 'تتلقى', 'هذا', 'البريد', 'الإلكتروني', 'بسبب', 'اشتراكك', 'في', 'wish.com.', 'لاتخاذ', 'قرار', 'بالتحلل', 'من', 'تلقي', 'رسائل', 'بريد', 'إلكتروني', 'مستقبلاً،', 'ويمكنك', 'القيام', 'بما', 'يلي', 'هنا.']\n",
      "plz enter the second spam mail: أحِل الأصدقاء واربح مبلغًا يصل إلى US$ 100. شارك الرمز الخاص بك!\n",
      "['أحِل', 'الأصدقاء', 'واربح', 'مبلغًا', 'يصل', 'إلى', 'US$', '100.', 'شارك', 'الرمز', 'الخاص', 'بك!']\n",
      "plz enter the third spam mail: انتهز الفرصة واحصل على خصم من 60% إلى 80% على إكسسوارات الهاتف\n",
      "['انتهز', 'الفرصة', 'واحصل', 'على', 'خصم', 'من', '60%', 'إلى', '80%', 'على', 'إكسسوارات', 'الهاتف']\n",
      "plz enter the fourth spam mail: أحِل الأصدقاء واربح مبلغًا يصل إلى US$ 100.     \n",
      "['أحِل', 'الأصدقاء', 'واربح', 'مبلغًا', 'يصل', 'إلى', 'US$', '100.']\n"
     ]
    }
   ],
   "source": [
    "#عملنا split() عشان  نعملها list وتحويل ال text اللى اليوزر بيدخلة ويحولها ل list\n",
    "#عملنا split( بردك عشان يعرف يفحص كل حرف داخل الlist)\n",
    "#وهكذا فى كل ال spam الاول والثانى والثالث والرابع\n",
    "spam_email_first=input(\"plz enter the first spam mail: \").split()\n",
    "\n",
    "print(spam_email_first)\n",
    "\n",
    "spam_email_second=input(\"plz enter the second spam mail: \").split()\n",
    "\n",
    "print(spam_email_second)\n",
    "\n",
    "spam_email_third=input(\"plz enter the third spam mail: \").split()\n",
    "\n",
    "print(spam_email_third)\n",
    "\n",
    "spam_email_fourth=input(\"plz enter the fourth spam mail: \").split()\n",
    "\n",
    "print(spam_email_fourth)"
   ]
  },
  {
   "cell_type": "code",
   "execution_count": 3,
   "metadata": {},
   "outputs": [
    {
     "name": "stdout",
     "output_type": "stream",
     "text": [
      "plz enter the first Ham mail: At the beginning of 2019, our marketing tech-stack was overflowing with \"shiny objects\" that promised BIG results...\n",
      "['At', 'the', 'beginning', 'of', '2019,', 'our', 'marketing', 'tech-stack', 'was', 'overflowing', 'with', '\"shiny', 'objects\"', 'that', 'promised', 'BIG', 'results...']\n",
      "plz enter the second Ham mail:  We understand this is a challenging time, especially with so many unknowns. Please know IDP’s global community is #InThisTogether as we navigate the restrictions and frequent changes in place \n",
      "['We', 'understand', 'this', 'is', 'a', 'challenging', 'time,', 'especially', 'with', 'so', 'many', 'unknowns.', 'Please', 'know', 'IDP’s', 'global', 'community', 'is', '#InThisTogether', 'as', 'we', 'navigate', 'the', 'restrictions', 'and', 'frequent', 'changes', 'in', 'place']\n",
      "plz enter the third Ham mail: ELTS is the most popular high-stakes English test for study, work and migration around the world. It is recognised by more than 10,000 universities and employers in many countries, including Australia, the UK, Ireland, USA, Canada and New Zealand. It is also recognised by professional bodies, \n",
      "['ELTS', 'is', 'the', 'most', 'popular', 'high-stakes', 'English', 'test', 'for', 'study,', 'work', 'and', 'migration', 'around', 'the', 'world.', 'It', 'is', 'recognised', 'by', 'more', 'than', '10,000', 'universities', 'and', 'employers', 'in', 'many', 'countries,', 'including', 'Australia,', 'the', 'UK,', 'Ireland,', 'USA,', 'Canada', 'and', 'New', 'Zealand.', 'It', 'is', 'also', 'recognised', 'by', 'professional', 'bodies,']\n",
      "plz enter the fourth Ham mail: espected and accepted world-wide, IELTS prepares you for success in the real world.  As a proud co-owner of the IELTS test, IDP offers extensive preparation materials to build your skills, \n",
      "['espected', 'and', 'accepted', 'world-wide,', 'IELTS', 'prepares', 'you', 'for', 'success', 'in', 'the', 'real', 'world.', 'As', 'a', 'proud', 'co-owner', 'of', 'the', 'IELTS', 'test,', 'IDP', 'offers', 'extensive', 'preparation', 'materials', 'to', 'build', 'your', 'skills,']\n"
     ]
    }
   ],
   "source": [
    "#بطلب من اليوزر يدخل كلمة تمثل ال ham mail \n",
    "#عملنا split() عشان  نعملها list وتحويل ال text اللى اليوزر بيدخلة ويحولها ل list\n",
    "#عملنا split( بردك عشان يعرف يفحص كل حرف داخل الlist)\n",
    "#وهكذا فى كل ال ham الاول والثانى والثالث والرابع\n",
    "Ham_email_first=input(\"plz enter the first Ham mail: \").split()\n",
    "\n",
    "print(Ham_email_first)\n",
    "\n",
    "Ham_email_second=input(\"plz enter the second Ham mail: \").split()\n",
    "\n",
    "print(Ham_email_second)\n",
    "\n",
    "Ham_email_third=input(\"plz enter the third Ham mail: \").split()\n",
    "\n",
    "print(Ham_email_third)\n",
    "\n",
    "Ham_email_fourth=input(\"plz enter the fourth Ham mail: \").split()\n",
    "\n",
    "print(Ham_email_fourth)\n"
   ]
  },
  {
   "cell_type": "code",
   "execution_count": 4,
   "metadata": {},
   "outputs": [
    {
     "name": "stdout",
     "output_type": "stream",
     "text": [
      "[['ت', 'تتلقى', 'هذا', 'البريد', 'الإلكتروني', 'بسبب', 'اشتراكك', 'في', 'wish.com.', 'لاتخاذ', 'قرار', 'بالتحلل', 'من', 'تلقي', 'رسائل', 'بريد', 'إلكتروني', 'مستقبلاً،', 'ويمكنك', 'القيام', 'بما', 'يلي', 'هنا.'], ['أحِل', 'الأصدقاء', 'واربح', 'مبلغًا', 'يصل', 'إلى', 'US$', '100.', 'شارك', 'الرمز', 'الخاص', 'بك!'], ['انتهز', 'الفرصة', 'واحصل', 'على', 'خصم', 'من', '60%', 'إلى', '80%', 'على', 'إكسسوارات', 'الهاتف'], ['أحِل', 'الأصدقاء', 'واربح', 'مبلغًا', 'يصل', 'إلى', 'US$', '100.']]\n"
     ]
    }
   ],
   "source": [
    "#لجمع ال spam mail &ham mail فى list وذالك لعمل بالظبط زى ليست داخل ليست كالاتى [[]][][]] ولل ham نفس النظام بردك..ثم طباعتهم بشكل منفرد\n",
    "spam_lists=[spam_email_first,spam_email_second,spam_email_third,spam_email_fourth]\n",
    "\n",
    "print(spam_lists)\n"
   ]
  },
  {
   "cell_type": "code",
   "execution_count": 5,
   "metadata": {},
   "outputs": [
    {
     "name": "stdout",
     "output_type": "stream",
     "text": [
      "[['At', 'the', 'beginning', 'of', '2019,', 'our', 'marketing', 'tech-stack', 'was', 'overflowing', 'with', '\"shiny', 'objects\"', 'that', 'promised', 'BIG', 'results...'], ['We', 'understand', 'this', 'is', 'a', 'challenging', 'time,', 'especially', 'with', 'so', 'many', 'unknowns.', 'Please', 'know', 'IDP’s', 'global', 'community', 'is', '#InThisTogether', 'as', 'we', 'navigate', 'the', 'restrictions', 'and', 'frequent', 'changes', 'in', 'place'], ['ELTS', 'is', 'the', 'most', 'popular', 'high-stakes', 'English', 'test', 'for', 'study,', 'work', 'and', 'migration', 'around', 'the', 'world.', 'It', 'is', 'recognised', 'by', 'more', 'than', '10,000', 'universities', 'and', 'employers', 'in', 'many', 'countries,', 'including', 'Australia,', 'the', 'UK,', 'Ireland,', 'USA,', 'Canada', 'and', 'New', 'Zealand.', 'It', 'is', 'also', 'recognised', 'by', 'professional', 'bodies,'], ['espected', 'and', 'accepted', 'world-wide,', 'IELTS', 'prepares', 'you', 'for', 'success', 'in', 'the', 'real', 'world.', 'As', 'a', 'proud', 'co-owner', 'of', 'the', 'IELTS', 'test,', 'IDP', 'offers', 'extensive', 'preparation', 'materials', 'to', 'build', 'your', 'skills,']]\n"
     ]
    }
   ],
   "source": [
    "Ham_lists=[Ham_email_first,Ham_email_second,Ham_email_third,Ham_email_fourth]\n",
    "\n",
    "print(Ham_lists)"
   ]
  },
  {
   "cell_type": "code",
   "execution_count": 6,
   "metadata": {},
   "outputs": [
    {
     "name": "stdout",
     "output_type": "stream",
     "text": [
      "0.5\n"
     ]
    }
   ],
   "source": [
    "#لحساب الوزن (كنسبة من الإجمالى) بتاع ال spam mail\n",
    "#هنحسب ثقل ميلات الspam = عدد إيميلات الspam / (عدد إيميلات الspam+ عدد إيميلات الham)\n",
    "#calculating the weight of spam mail\n",
    "\n",
    "weight_of_spam=len(spam_lists)/(len(Ham_lists)+len(spam_lists))\n",
    "\n",
    "print(weight_of_spam)"
   ]
  },
  {
   "cell_type": "code",
   "execution_count": 7,
   "metadata": {},
   "outputs": [
    {
     "name": "stdout",
     "output_type": "stream",
     "text": [
      "0.5\n"
     ]
    }
   ],
   "source": [
    "\n",
    "#لحساب الوزن (كنسبة من الإجمالى) بتاع ال Ham mail\n",
    "#هنحسب ثقل ميلات الham = عدد إيميلات الham / (عدد إيميلات الspam+ عدد إيميلات الham)\n",
    "#calculatingthe weight of Ham mail\n",
    "weight_of_Ham=len(Ham_lists)/(len(Ham_lists)+len(spam_lists))\n",
    "print(weight_of_Ham)"
   ]
  },
  {
   "cell_type": "code",
   "execution_count": 8,
   "metadata": {},
   "outputs": [
    {
     "name": "stdout",
     "output_type": "stream",
     "text": [
      "plz enter the mail you want to classify: A first-party GitHub OAuth application (GitHub Android) with admin:org, notifications, read:discussion, repo, and user scopes was recently authorized to access your account.\n",
      "['A', 'first-party', 'GitHub', 'OAuth', 'application', '(GitHub', 'Android)', 'with', 'admin:org,', 'notifications,', 'read:discussion,', 'repo,', 'and', 'user', 'scopes', 'was', 'recently', 'authorized', 'to', 'access', 'your', 'account.']\n"
     ]
    }
   ],
   "source": [
    "#هنا دلوقتى هطلب من اليوزر انة يدخل ميل (اى كلمة معبرة عن الميل طبعا) عشان نحسب نسبتها كمقارنة بين ال spam وال Ham وبنعمل split عشان اعرف اقطع الكلمة وافصلها عشان اعرف اقارنها بالكلمات الاساسية اللى دخلتها لل spam&Ham\n",
    "#asking the user to enter the email he wants to classify\n",
    "email=input(\"plz enter the mail you want to classify: \").split()\n",
    "print(email)\n",
    "#defining variabl to record the total probability of words inside\n",
    "total_spam_probability=0\n",
    "#extracting each word in the email needed to be determined either its spam or Ham\n",
    "\n"
   ]
  },
  {
   "cell_type": "code",
   "execution_count": 9,
   "metadata": {},
   "outputs": [
    {
     "name": "stdout",
     "output_type": "stream",
     "text": [
      "A\n",
      "0\n",
      "0\n",
      "first-party\n",
      "0\n",
      "0\n",
      "GitHub\n",
      "0\n",
      "0\n",
      "OAuth\n",
      "0\n",
      "0\n",
      "application\n",
      "0\n",
      "0\n",
      "(GitHub\n",
      "0\n",
      "0\n",
      "Android)\n",
      "0\n",
      "0\n",
      "with\n",
      "0\n",
      "2\n",
      "admin:org,\n",
      "0\n",
      "0\n",
      "notifications,\n",
      "0\n",
      "0\n",
      "read:discussion,\n",
      "0\n",
      "0\n",
      "repo,\n",
      "0\n",
      "0\n",
      "and\n",
      "0\n",
      "5\n",
      "user\n",
      "0\n",
      "0\n",
      "scopes\n",
      "0\n",
      "0\n",
      "was\n",
      "0\n",
      "1\n",
      "recently\n",
      "0\n",
      "0\n",
      "authorized\n",
      "0\n",
      "0\n",
      "to\n",
      "0\n",
      "1\n",
      "access\n",
      "0\n",
      "0\n",
      "your\n",
      "0\n",
      "1\n",
      "account.\n",
      "0\n",
      "0\n"
     ]
    }
   ],
   "source": [
    "for word in email:\n",
    "    print(word)\n",
    "#هنعد عدد الwords فى كل spamlists لو اتكرر مرة هيكتب جمبية 1 وبعدين يحط علامة + ولو اتكرر تانى هيحط 1 وبعدين يكتب + ولو تالت هيحط 1 ولو اتكرر هيكتب 1 وهكذا..وبعدين عدد المرات دى بتتسجل فى الword_spam_reapeting\n",
    "#calculating the probability for the word\n",
    "    word_spam_repeating=sum(x.count(word)\n",
    "    for x in spam_lists)\n",
    "    print(word_spam_repeating)\n",
    "    \n",
    "    word_Ham_repeating=sum(x.count(word)\n",
    "    for x in Ham_lists)\n",
    "    print(word_Ham_repeating)    "
   ]
  },
  {
   "cell_type": "code",
   "execution_count": 10,
   "metadata": {},
   "outputs": [
    {
     "name": "stdout",
     "output_type": "stream",
     "text": [
      "0.9090909090909091\n"
     ]
    }
   ],
   "source": [
    "#نسبة الspam ميل( إحتمالية ان الميل يكون spam ) = (عدد مرات تكرار كلمات الspam*ثقل الميل فى الspam)/(الاجمالىْ-(عدد مرات تكرار كلمات الspam*ثقل الميل فى الspam)+(عدد مرات تكرار كلمات الham*ثقل الميل فى الham)-)\n",
    "#الرقم 1 فى البسط والرقم 1 فى المقام..عشان مايدنيش error لو النتيجة كان صفر على صفر\n",
    "probability_spam_for_the_word=(word_spam_repeating*weight_of_spam+1)/((word_spam_repeating*weight_of_spam)+(word_Ham_repeating*weight_of_Ham)+1.1)\n",
    "\n",
    "print(probability_spam_for_the_word)\n"
   ]
  },
  {
   "cell_type": "code",
   "execution_count": 11,
   "metadata": {},
   "outputs": [
    {
     "name": "stdout",
     "output_type": "stream",
     "text": [
      "0.9090909090909091\n"
     ]
    }
   ],
   "source": [
    "#calculating the new total probability for the words extracted\n",
    "total_spam_probability=total_spam_probability+probability_spam_for_the_word\n",
    "\n",
    "print(total_spam_probability)\n"
   ]
  },
  {
   "cell_type": "code",
   "execution_count": 12,
   "metadata": {},
   "outputs": [
    {
     "name": "stdout",
     "output_type": "stream",
     "text": [
      "0.04132231404958678\n"
     ]
    }
   ],
   "source": [
    "#calculating the email spam probability\n",
    "\n",
    "email_spam_probability=total_spam_probability/len(email)\n",
    "\n",
    "print(email_spam_probability)"
   ]
  },
  {
   "cell_type": "code",
   "execution_count": null,
   "metadata": {},
   "outputs": [],
   "source": []
  },
  {
   "cell_type": "code",
   "execution_count": null,
   "metadata": {},
   "outputs": [],
   "source": []
  }
 ],
 "metadata": {
  "kernelspec": {
   "display_name": "Python 3",
   "language": "python",
   "name": "python3"
  },
  "language_info": {
   "codemirror_mode": {
    "name": "ipython",
    "version": 3
   },
   "file_extension": ".py",
   "mimetype": "text/x-python",
   "name": "python",
   "nbconvert_exporter": "python",
   "pygments_lexer": "ipython3",
   "version": "3.7.3"
  }
 },
 "nbformat": 4,
 "nbformat_minor": 4
}
